{
 "cells": [
  {
   "cell_type": "code",
   "execution_count": 1,
   "metadata": {},
   "outputs": [
    {
     "name": "stderr",
     "output_type": "stream",
     "text": [
      "usage: ipykernel_launcher.py [-h] [--mode {train}] [--template TEMPLATE]\n",
      "                             [--test_model_path TEST_MODEL_PATH]\n",
      "                             [--dataset_code {ml-1m,ml-20m}]\n",
      "                             [--min_rating MIN_RATING] [--min_uc MIN_UC]\n",
      "                             [--min_sc MIN_SC] [--split SPLIT]\n",
      "                             [--dataset_split_seed DATASET_SPLIT_SEED]\n",
      "                             [--eval_set_size EVAL_SET_SIZE]\n",
      "                             [--dataloader_code {bert,ae}]\n",
      "                             [--dataloader_random_seed DATALOADER_RANDOM_SEED]\n",
      "                             [--train_batch_size TRAIN_BATCH_SIZE]\n",
      "                             [--val_batch_size VAL_BATCH_SIZE]\n",
      "                             [--test_batch_size TEST_BATCH_SIZE]\n",
      "                             [--train_negative_sampler_code {popular,random}]\n",
      "                             [--train_negative_sample_size TRAIN_NEGATIVE_SAMPLE_SIZE]\n",
      "                             [--train_negative_sampling_seed TRAIN_NEGATIVE_SAMPLING_SEED]\n",
      "                             [--test_negative_sampler_code {popular,random}]\n",
      "                             [--test_negative_sample_size TEST_NEGATIVE_SAMPLE_SIZE]\n",
      "                             [--test_negative_sampling_seed TEST_NEGATIVE_SAMPLING_SEED]\n",
      "                             [--trainer_code {bert,dae,vae}]\n",
      "                             [--device {cpu,cuda}] [--num_gpu NUM_GPU]\n",
      "                             [--device_idx DEVICE_IDX]\n",
      "                             [--optimizer {SGD,Adam}] [--lr LR]\n",
      "                             [--weight_decay WEIGHT_DECAY]\n",
      "                             [--momentum MOMENTUM] [--decay_step DECAY_STEP]\n",
      "                             [--gamma GAMMA] [--num_epochs NUM_EPOCHS]\n",
      "                             [--log_period_as_iter LOG_PERIOD_AS_ITER]\n",
      "                             [--metric_ks METRIC_KS [METRIC_KS ...]]\n",
      "                             [--best_metric BEST_METRIC]\n",
      "                             [--find_best_beta FIND_BEST_BETA]\n",
      "                             [--total_anneal_steps TOTAL_ANNEAL_STEPS]\n",
      "                             [--anneal_cap ANNEAL_CAP]\n",
      "                             [--model_code {bert,dae,vae}]\n",
      "                             [--model_init_seed MODEL_INIT_SEED]\n",
      "                             [--bert_max_len BERT_MAX_LEN]\n",
      "                             [--bert_num_items BERT_NUM_ITEMS]\n",
      "                             [--bert_hidden_units BERT_HIDDEN_UNITS]\n",
      "                             [--bert_num_blocks BERT_NUM_BLOCKS]\n",
      "                             [--bert_num_heads BERT_NUM_HEADS]\n",
      "                             [--bert_dropout BERT_DROPOUT]\n",
      "                             [--bert_mask_prob BERT_MASK_PROB]\n",
      "                             [--dae_num_items DAE_NUM_ITEMS]\n",
      "                             [--dae_num_hidden DAE_NUM_HIDDEN]\n",
      "                             [--dae_hidden_dim DAE_HIDDEN_DIM]\n",
      "                             [--dae_latent_dim DAE_LATENT_DIM]\n",
      "                             [--dae_dropout DAE_DROPOUT]\n",
      "                             [--vae_num_items VAE_NUM_ITEMS]\n",
      "                             [--vae_num_hidden VAE_NUM_HIDDEN]\n",
      "                             [--vae_hidden_dim VAE_HIDDEN_DIM]\n",
      "                             [--vae_latent_dim VAE_LATENT_DIM]\n",
      "                             [--vae_dropout VAE_DROPOUT]\n",
      "                             [--experiment_dir EXPERIMENT_DIR]\n",
      "                             [--experiment_description EXPERIMENT_DESCRIPTION]\n",
      "ipykernel_launcher.py: error: unrecognized arguments: -f /Users/lingyaoyan/Library/Jupyter/runtime/kernel-0bca6847-fb7f-4bfc-a465-5f333840ca7f.json\n"
     ]
    },
    {
     "ename": "SystemExit",
     "evalue": "2",
     "output_type": "error",
     "traceback": [
      "An exception has occurred, use %tb to see the full traceback.\n",
      "\u001b[0;31mSystemExit\u001b[0m\u001b[0;31m:\u001b[0m 2\n"
     ]
    },
    {
     "name": "stderr",
     "output_type": "stream",
     "text": [
      "/opt/homebrew/Caskroom/miniforge/base/envs/pytorch_env/lib/python3.8/site-packages/IPython/core/interactiveshell.py:3386: UserWarning: To exit: use 'exit', 'quit', or Ctrl-D.\n",
      "  warn(\"To exit: use 'exit', 'quit', or Ctrl-D.\", stacklevel=1)\n"
     ]
    }
   ],
   "source": [
    "import torch\n",
    "\n",
    "from options import args\n",
    "from models import model_factory\n",
    "from dataloaders import dataloader_factory\n",
    "from trainers import trainer_factory\n",
    "from utils import *\n",
    "\n",
    "export_root = setup_train(args)\n",
    "\n",
    "train_loader, val_loader, test_loader = dataloader_factory(args)"
   ]
  },
  {
   "cell_type": "code",
   "execution_count": null,
   "metadata": {},
   "outputs": [],
   "source": []
  }
 ],
 "metadata": {
  "kernelspec": {
   "display_name": "Python 3.8.13 ('pytorch_env')",
   "language": "python",
   "name": "python3"
  },
  "language_info": {
   "codemirror_mode": {
    "name": "ipython",
    "version": 3
   },
   "file_extension": ".py",
   "mimetype": "text/x-python",
   "name": "python",
   "nbconvert_exporter": "python",
   "pygments_lexer": "ipython3",
   "version": "3.8.13"
  },
  "orig_nbformat": 4,
  "vscode": {
   "interpreter": {
    "hash": "57d879c1bab31ddce3f98747a90aac1ecdf0d747d4f9b6f921c92f41b19b21c9"
   }
  }
 },
 "nbformat": 4,
 "nbformat_minor": 2
}
